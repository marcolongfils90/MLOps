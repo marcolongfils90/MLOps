{
  "nbformat": 4,
  "nbformat_minor": 0,
  "metadata": {
    "colab": {
      "provenance": [],
      "authorship_tag": "ABX9TyOfhhFe6ycF1rTOMTv1LlIe"
    },
    "kernelspec": {
      "name": "python3",
      "display_name": "Python 3"
    },
    "language_info": {
      "name": "python"
    }
  },
  "cells": [
    {
      "cell_type": "markdown",
      "source": [
        "In this notebook, we test and experiment with different models which will be then pushed to production.\n",
        "\n"
      ],
      "metadata": {
        "id": "dZl9ozQYX2DJ"
      }
    },
    {
      "cell_type": "code",
      "execution_count": null,
      "metadata": {
        "id": "Kzpoj0omXutG"
      },
      "outputs": [],
      "source": []
    }
  ]
}